{
 "cells": [
  {
   "cell_type": "code",
   "execution_count": null,
   "id": "d8c49de3-4303-43e2-8b0e-f61b76a038e3",
   "metadata": {},
   "outputs": [],
   "source": [
    "%matplotlib inline\n",
    "\n",
    "import matplotlib.pyplot as plt\n",
    "\n",
    "import numpy as np\n",
    "\n",
    "import torch\n",
    "from torch import Tensor\n",
    "from torch.nn import Module\n",
    "from torch.nn.parameter import Parameter\n",
    "\n",
    "from boundary import plot_decision_boundary\n",
    "from gaussians import n_gaussians"
   ]
  },
  {
   "cell_type": "markdown",
   "id": "483bf7ae-5365-435e-a882-5e6e8b49bf79",
   "metadata": {},
   "source": [
    "## Data set\n",
    "\n",
    "First we generate a toy data set for binary classification. We generate instances\n",
    "around a middle point with a gaussian distribution."
   ]
  },
  {
   "cell_type": "code",
   "execution_count": null,
   "id": "b86d45ec-efbd-4012-936e-5b0bf19ca7b1",
   "metadata": {},
   "outputs": [],
   "source": [
    "X_train, Y_train = n_gaussians(np.array([[0.8, 0.2],[0.2, 0.8]]),\n",
    "                               np.array([0, 1], dtype=np.float32), 200, stddev=0.3)\n",
    "X_train = torch.tensor(X_train, dtype=torch.float)\n",
    "Y_train = torch.tensor(Y_train, dtype=torch.int64)\n",
    "\n",
    "X_validate, Y_validate = n_gaussians(np.array([[0.8, 0.2],[0.2, 0.8]]),\n",
    "                                     np.array([0, 1], dtype=np.float32), 200, stddev=0.3)"
   ]
  },
  {
   "cell_type": "markdown",
   "id": "e1b9adbb-e358-4b0d-8e7e-cb9334f1981d",
   "metadata": {},
   "source": [
    "Let's plot the the training instances to get a better idea of the distribution\n",
    "of the data."
   ]
  },
  {
   "cell_type": "code",
   "execution_count": null,
   "id": "8e09a843-8b98-48a8-bd1a-201cbaf3fda4",
   "metadata": {},
   "outputs": [],
   "source": [
    "plt.scatter(X_train[:,0], X_train[:,1], c=Y_train, cmap=plt.cm.Spectral)"
   ]
  },
  {
   "cell_type": "markdown",
   "id": "b8d6376e-47b5-49a8-838f-783bf0ebb560",
   "metadata": {},
   "source": [
    "We will create a simple linear classifier without a probabilistic interpretation.\n",
    "The normal outputs are just the raw outputs of $\\mathbf{w}\\cdot\\mathbf{x} + b$.\n",
    "Classification is performed by checking on which side of the boundary data points are."
   ]
  },
  {
   "cell_type": "code",
   "execution_count": null,
   "id": "bdba2ed5-68fe-4ef1-b79d-063027c3dcde",
   "metadata": {},
   "outputs": [],
   "source": [
    "class SimpleLinear(torch.nn.Module):\n",
    "    def __init__(self, n_features: int):\n",
    "        super(SimpleLinear, self).__init__()\n",
    "        # The `Parameter` class wraps the parameters and registers them\n",
    "        # so that we can e.g. get them through the `parameters` method\n",
    "        # of module.\n",
    "        self.weights = Parameter(torch.randn(n_features))\n",
    "        self.bias = Parameter(torch.randn(()))\n",
    "        \n",
    "    def classify(self, x: Tensor) -> Tensor:\n",
    "        activation = self.forward(x)\n",
    "        return torch.where(activation < 0, 0, 1)\n",
    "    \n",
    "    def forward(self, x: Tensor) -> Tensor:\n",
    "        # Note that we flip `w` and `x` here. The reason is that `x` is\n",
    "        # not a single instance, but can be multiple instances and is\n",
    "        # therefore laid out as a matrix `[n_instances, 2]`. The `@`\n",
    "        # operator requires that last dimension of the first operand\n",
    "        # is the same as the second dimension of the second operand.\n",
    "        # We will discuss why this is the case in the lecture on matrix\n",
    "        # multiplication.\n",
    "        return x @ self.weights + self.bias"
   ]
  },
  {
   "cell_type": "markdown",
   "id": "883a225f-c286-49ad-a9b0-ea1e719632d5",
   "metadata": {},
   "source": [
    "Such a linear classifier can be trained with [hinge loss](https://en.wikipedia.org/wiki/Hinge_loss)."
   ]
  },
  {
   "cell_type": "code",
   "execution_count": null,
   "id": "2a4623a6-97ac-4421-b504-553db7923ed7",
   "metadata": {},
   "outputs": [],
   "source": [
    "class HingeLoss(torch.nn.Module):\n",
    "    def forward(self, predictions: Tensor, targets: Tensor):\n",
    "        targets = targets.clone()\n",
    "        targets[targets == 0] = -1\n",
    "        return (1.0 - targets * predictions).maximum(torch.tensor(0.)).mean()\n",
    "        "
   ]
  },
  {
   "cell_type": "code",
   "execution_count": null,
   "id": "7f4dcbe2-aa43-48c6-9c60-7e8e531e4685",
   "metadata": {},
   "outputs": [],
   "source": [
    "model = SimpleLinear(X_train.shape[1])\n",
    "loss_function = HingeLoss()"
   ]
  },
  {
   "cell_type": "code",
   "execution_count": null,
   "id": "d90d1a56-2825-4932-8855-9b0fd1b21c0f",
   "metadata": {},
   "outputs": [],
   "source": [
    "optimizer = torch.optim.SGD(model.parameters(), lr=0.5)"
   ]
  },
  {
   "cell_type": "code",
   "execution_count": null,
   "id": "6112f62c-2f03-4068-a3fe-591fed39700e",
   "metadata": {},
   "outputs": [],
   "source": [
    "for step in range(100):\n",
    "    optimizer.zero_grad()\n",
    "    loss = loss_function(model(X_train), Y_train)    \n",
    "    loss.backward()\n",
    "    optimizer.step()\n",
    "    \n",
    "    with torch.no_grad():\n",
    "        acc = model.classify(X_train).eq(Y_train).to(torch.float).mean()\n",
    "\n",
    "    print(f\"Step: {step}, loss: {loss}, acc: {acc}\")\n"
   ]
  },
  {
   "cell_type": "code",
   "execution_count": null,
   "id": "87ac4929-2682-430f-85ae-72f30d466eb0",
   "metadata": {},
   "outputs": [],
   "source": [
    "fig = plt.figure(figsize=(8, 6))\n",
    "sub = fig.add_subplot(111)\n",
    "\n",
    "def classify(x):\n",
    "    x = torch.tensor(x, dtype=torch.float)\n",
    "    return model.classify(x).detach().numpy()\n",
    "\n",
    "plot_decision_boundary(sub, lambda x: classify(x), X_validate, Y_validate,\n",
    "                           batch_size = X_validate.shape[0],\n",
    "                           x_range = (X_validate[:,0].min(), X_validate[:,0].max()),\n",
    "                           y_range = (X_validate[:,1].min(), X_validate[:,1].max()))"
   ]
  }
 ],
 "metadata": {
  "kernelspec": {
   "display_name": "Python 3",
   "language": "python",
   "name": "python3"
  },
  "language_info": {
   "codemirror_mode": {
    "name": "ipython",
    "version": 3
   },
   "file_extension": ".py",
   "mimetype": "text/x-python",
   "name": "python",
   "nbconvert_exporter": "python",
   "pygments_lexer": "ipython3",
   "version": "3.8.9"
  }
 },
 "nbformat": 4,
 "nbformat_minor": 5
}
