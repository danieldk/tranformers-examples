{
  "nbformat": 4,
  "nbformat_minor": 0,
  "metadata": {
    "colab": {
      "name": "Assignment 1.ipynb",
      "provenance": [],
      "collapsed_sections": []
    },
    "kernelspec": {
      "name": "python3",
      "display_name": "Python 3"
    },
    "language_info": {
      "name": "python"
    }
  },
  "cells": [
    {
      "cell_type": "markdown",
      "metadata": {
        "id": "prOc79ckqtH_"
      },
      "source": [
        "# Assignment 1: checking your environment\n",
        "\n",
        "## Introduction\n",
        "\n",
        "The goal of this first assignment is to check whether your Python environment\n",
        "is correctly set up for using Jupyter Notebooks. If you are viewing this file\n",
        "on Google Collab and would like to use it in your local Jupyter environment,\n",
        "you can click *File -> Download -> Download .ipynb*. You can then open the\n",
        "file with Jupyter Lab/Notebook.\n",
        "\n",
        "## Preparation\n",
        "\n",
        "In this assignment, you will use Huggingface Datasets to download a data set. It\n",
        "is recommended that you read the [quick tour](https://huggingface.co/docs/datasets/quicktour.html)\n",
        "before working on this assignment.\n",
        "\n",
        "## Notebook environments\n",
        "\n",
        "As discussed during the first lecture, there are several ways to use\n",
        "notebooks. I recommend one of the following:\n",
        "\n",
        "* [Google Colab](https://colab.research.google.com/) if you want to do the\n",
        "  absolute minimum of setup. Once we start training heavier models, I also\n",
        "  recommend that you do this on Google Colab if you do not have an NVIDIA\n",
        "  GPU that is powerful enough.\n",
        "* [JupyterLab](https://jupyterlab.readthedocs.io/en/stable/) if you want to\n",
        "  run the notebooks on your own machine. This also works offline and you can\n",
        "  use your own CUDA-capable GPU (if you have one).\n",
        "* [PyCharm Professional](https://www.jetbrains.com/pycharm/). This is a\n",
        "  full Python IDE and offers completion, variable inspection, and other\n",
        "  nice features. Even though PyCharm Professional is a commercial product,\n",
        "  students can\n",
        "  [apply for a free license](https://www.jetbrains.com/community/education/#students).\n",
        "\n",
        "## Getting started with JupyterLab\n",
        "\n",
        "I recommend you to use [Poetry](https://python-poetry.org/) to install\n",
        "Python dependencies. I have provided an [example project](https://github.com/danieldk/tranformers-examples/tree/main/notebook-env) that you\n",
        "can use as a starting project. If you have downloaded the `pyproject.toml`\n",
        "and `poetry.lock` files to a directory, you can download packages\n",
        "that we use throughout this course with:\n",
        "\n",
        "```\n",
        "$ poetry install\n",
        "```\n",
        "\n",
        "This step only has to be performed once. Afterwards, you can always go\n",
        "to this project directory and start a shell in a Python virtual\n",
        "environment:\n",
        "\n",
        "```\n",
        "$ poetry shell\n",
        "```\n",
        "\n",
        "you can then start JupyterLab from within this shell:\n",
        "\n",
        "```\n",
        "$ jupyter-lab\n",
        "```\n",
        "\n",
        "## Getting started with PyCharm Professional\n",
        "\n",
        "Install [Poetry](https://python-poetry.org/) and get the [example project]()\n",
        "described in the previous section. Start PyCharm and install the [Poetry\n",
        "plugin](https://plugins.jetbrains.com/plugin/14307-poetry) from the plugins\n",
        "section. After this is done, you can open the Poetry project in PyCharm.\n",
        "\n",
        "## What if I use Windows?\n",
        "\n",
        "I highly recommend you to use a Linux/Mac environment (or Google Colab), it is\n",
        "more pleasant for machine learning and data science, and you will encounter\n",
        "far fewer paper cuts.\n",
        "\n",
        "Luckily, you can nowadays [run Linux on Windows](https://docs.microsoft.com/en-us/windows/wsl/install-win10)\n",
        "through the Windows Subsystem for Linux 2, which is available in recent\n",
        "versions of Windows 10."
      ]
    },
    {
      "cell_type": "markdown",
      "metadata": {
        "id": "wotMIanLqraE"
      },
      "source": [
        "## Imports\n",
        "\n",
        "We will start with some imports of modules that can be used during the assignment."
      ]
    },
    {
      "cell_type": "code",
      "metadata": {
        "id": "DDy-hSs2q1Cb"
      },
      "source": [
        "# Uncomment the following line if you use Google Colab. If you use the\n",
        "# Poetry project, then all necessary dependencies are already installed.\n",
        "# !pip install datasets\n",
        "\n",
        "%matplotlib inline\n",
        "import re\n",
        "\n",
        "import datasets\n",
        "import matplotlib.pyplot as plt\n",
        "import numpy as np"
      ],
      "execution_count": null,
      "outputs": []
    },
    {
      "cell_type": "markdown",
      "metadata": {
        "id": "jlSDNOWUrF9X"
      },
      "source": [
        "## 1.1 Load a data set\n",
        "\n",
        "First we need to load a data set to analyze. Load the *train* fold of the\n",
        "[banking77](https://huggingface.co/datasets/banking77) data set, using the\n",
        "`datasets` package."
      ]
    },
    {
      "cell_type": "code",
      "metadata": {
        "id": "v79MCYOxrK5X"
      },
      "source": [
        "# Your code here"
      ],
      "execution_count": null,
      "outputs": []
    },
    {
      "cell_type": "markdown",
      "metadata": {
        "id": "usshWa45rMPv"
      },
      "source": [
        "## 1.2 Inspect the metadata\n",
        "\n",
        "Query the data set for the following properties:\n",
        "\n",
        "* Find out what kind of data the data set contains.\n",
        "* Find the number of instances in the training fold.\n",
        "* Find the features of the data set (what does each instance contain?)."
      ]
    },
    {
      "cell_type": "code",
      "metadata": {
        "id": "DlvC2vwCrS6O"
      },
      "source": [
        "# Your code here"
      ],
      "execution_count": null,
      "outputs": []
    },
    {
      "cell_type": "markdown",
      "metadata": {
        "id": "7UF0XHeKrUuX"
      },
      "source": [
        "## 1.3 Average customer query length\n",
        "\n",
        "Compute the approximate average length of the customer service queries in tokens. Since\n",
        "this is only an approximate, it suffices to use whitespace as a token boundary."
      ]
    },
    {
      "cell_type": "code",
      "metadata": {
        "id": "d26Ri2DUrYv4"
      },
      "source": [
        "# Your code here"
      ],
      "execution_count": null,
      "outputs": []
    },
    {
      "cell_type": "markdown",
      "metadata": {
        "id": "3-Fw0Yudrbjp"
      },
      "source": [
        "## 1.4 Customer query length distribution\n",
        "\n",
        "Plot a histogram of the text lengths using [matplotlib](https://matplotlib.org/) using\n",
        "20 bins."
      ]
    },
    {
      "cell_type": "code",
      "metadata": {
        "id": "lQ7xi2j7rfzr"
      },
      "source": [
        "# Your code here"
      ],
      "execution_count": null,
      "outputs": []
    },
    {
      "cell_type": "markdown",
      "metadata": {
        "id": "z9HvjVcFriCi"
      },
      "source": [
        "## 1.4 Label distribution\n",
        "\n",
        "Plot a histogram of label frequencies in the training fold. Is the\n",
        "distribution of labels balanced?"
      ]
    },
    {
      "cell_type": "markdown",
      "metadata": {
        "id": "Zddd-lPBrlUT"
      },
      "source": [
        "# Your code here"
      ]
    }
  ]
}